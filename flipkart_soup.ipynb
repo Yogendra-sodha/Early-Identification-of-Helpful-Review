{
 "cells": [
  {
   "cell_type": "markdown",
   "id": "8e08ab73",
   "metadata": {},
   "source": [
    "### Importing all the Libraries"
   ]
  },
  {
   "cell_type": "code",
   "execution_count": 7,
   "id": "8df69713",
   "metadata": {},
   "outputs": [],
   "source": [
    "import requests\n",
    "import pandas as pd\n",
    "from bs4 import BeautifulSoup\n",
    "\n",
    "from IPython.core.interactiveshell import InteractiveShell\n",
    "InteractiveShell.ast_node_interactivity = \"all\"\n",
    "\n",
    "from selenium import webdriver\n",
    "from selenium.webdriver.common.by import By\n",
    "from selenium.webdriver.support.ui import WebDriverWait\n",
    "from selenium.webdriver.support import expected_conditions \n"
   ]
  },
  {
   "cell_type": "markdown",
   "id": "7b08b959",
   "metadata": {},
   "source": [
    "#### Links for scrapping reviews \n",
    "- Links where copied and then they were modified by removing the page number"
   ]
  },
  {
   "cell_type": "code",
   "execution_count": 34,
   "id": "1cae3ed2",
   "metadata": {},
   "outputs": [],
   "source": [
    "printerUrl = 'https://www.flipkart.com/hp-deskjet-2331-multi-function-color-printer/product-reviews/itm5708dbe303a73?pid=PRNFTXAWZ9DZ2KHR&lid=LSTPRNFTXAWZ9DZ2KHRNUI3EX&marketplace=FLIPKART&page='\n",
    "soapUrl = 'https://www.flipkart.com/pears-pure-gentle-bathing-bar/product-reviews/itmf3ccda8zjgzjy?pid=SOPEMNE4GE23MXEU&lid=LSTSOPEMNE4GE23MXEUDJHP2R&marketplace=FLIPKART&page='\n",
    "iphone14Url = 'https://www.flipkart.com/apple-iphone-14-pro-max-space-black-256-gb/product-reviews/itm8a92b3d600e04?pid=MOBGHWFHSEZUKWDM&lid=LSTMOBGHWFHSEZUKWDM1LFARE&marketplace=FLIPKART&page='\n",
    "iphone13Url = 'https://www.flipkart.com/apple-iphone-13-midnight-128-gb/product-reviews/itmca361aab1c5b0?pid=MOBG6VF5Q82T3XRS&lid=LSTMOBG6VF5Q82T3XRSOXJLM9&marketplace=FLIPKART&page='\n",
    "pocoM14Url = 'https://www.flipkart.com/poco-m4-pro-5g-cool-blue-128-gb/product-reviews/itm509e4403d0303?pid=MOBGBEU7GKRSHG5M&lid=LSTMOBGBEU7GKRSHG5MWVOWEV&marketplace=FLIPKART&page='"
   ]
  },
  {
   "cell_type": "markdown",
   "id": "d6b6fa28",
   "metadata": {},
   "source": [
    "#### This Function will scrape the reviews likes, dislikes,star\n",
    "- The function will take url as parameter, then it will scrape the content from link and loopin through number of page.\n",
    "- The function will return List of list stored in cleanTable variable"
   ]
  },
  {
   "cell_type": "code",
   "execution_count": 35,
   "id": "9d725078",
   "metadata": {},
   "outputs": [],
   "source": [
    "def get_reviews(url):\n",
    "    table = []\n",
    "    printerPage = 151\n",
    "    soapPage = 1671\n",
    "    iphone14Page = 3\n",
    "    iphone13Page = 7\n",
    "    pocoM14Page = 24\n",
    "    for i in range(1,pocoM14Page):\n",
    "        page_url = url+str(i)\n",
    "        getPage = requests.get(page_url)\n",
    "\n",
    "        if getPage.status_code==200:\n",
    "            convertUrl = BeautifulSoup(getPage.content, 'html.parser')\n",
    "\n",
    "\n",
    "        reviewTable = convertUrl.select(\"div._1AtVbE\")\n",
    "        for content in reviewTable:\n",
    "            review = None\n",
    "            star = None\n",
    "            like = None\n",
    "            dislike = None\n",
    "\n",
    "            cReview = content.select(\"div.t-ZTKy\")\n",
    "            if cReview !=[]:\n",
    "                rawReview = cReview[0].get_text().strip().split(\"READ MORE\")\n",
    "                review = \" \".join(rawReview)\n",
    "\n",
    "            cStar = content.select(\"div._3LWZlK\")\n",
    "            if cStar !=[]:\n",
    "                star = cStar[0].get_text()\n",
    "\n",
    "            cLike = content.select(\"span._3c3Px5\")\n",
    "            if cLike !=[]:\n",
    "                like = cLike[0].get_text()\n",
    "\n",
    "            cDislike = content.select(\"div.pkR4jH\")\n",
    "            if cDislike !=[]:\n",
    "                dislike = cDislike[0].get_text()\n",
    "\n",
    "            table.append((review,star,like,dislike))\n",
    "            \n",
    "        \n",
    "    cleanTable = []\n",
    "    for i in range(len(table)):\n",
    "            if None in table[i]:\n",
    "                continue\n",
    "            else:\n",
    "                cleanTable.append(table[i])\n",
    "    return cleanTable"
   ]
  },
  {
   "cell_type": "markdown",
   "id": "7ef48eed",
   "metadata": {},
   "source": [
    "- Calling the functions with different product urls"
   ]
  },
  {
   "cell_type": "code",
   "execution_count": 41,
   "id": "8926698d",
   "metadata": {},
   "outputs": [],
   "source": [
    "# printerRev = get_reviews(printerUrl)\n",
    "# soapRev = get_reviews(soapUrl)\n",
    "# iphone14Rev = get_reviews(iphone14Url)\n",
    "# iphone13Rev = get_reviews(iphone13Url)\n",
    "# pocoM14Rev = get_reviews(pocoM14Url)"
   ]
  },
  {
   "cell_type": "markdown",
   "id": "f4a53842",
   "metadata": {},
   "source": [
    "- Converting list of list of details of reviews to dataframe."
   ]
  },
  {
   "cell_type": "code",
   "execution_count": 42,
   "id": "5aea2930",
   "metadata": {},
   "outputs": [],
   "source": [
    "# printerReviews = pd.DataFrame(printerRev, columns=['Review','Star','Like','Dislike'])\n",
    "# soapReviews = pd.DataFrame(soapRev, columns=['Review','Star','Like','Dislike'])\n",
    "# iphone14Reviews = pd.DataFrame(iphone14Rev, columns=['Review','Star','Like','Dislike'])\n",
    "# iphone13Reviews = pd.DataFrame(iphone13Rev, columns=['Review','Star','Like','Dislike'])\n",
    "# pocoM14Reviews = pd.DataFrame(pocoM14Rev, columns=['Review','Star','Like','Dislike'])"
   ]
  },
  {
   "cell_type": "markdown",
   "id": "948f0690",
   "metadata": {},
   "source": [
    "- Merginging all the dataframe together in to create one csv file"
   ]
  },
  {
   "cell_type": "code",
   "execution_count": 45,
   "id": "e04bd3d4",
   "metadata": {},
   "outputs": [],
   "source": [
    "# df = pd.concat([printerReviews,soapReviews,iphone14Reviews, iphone13Reviews, pocoM14Reviews], ignore_index=True)"
   ]
  },
  {
   "cell_type": "code",
   "execution_count": 48,
   "id": "4499c0cd",
   "metadata": {},
   "outputs": [],
   "source": [
    "# df.to_csv(\"flipkart_reviews.csv\",index=False)"
   ]
  }
 ],
 "metadata": {
  "kernelspec": {
   "display_name": "Python 3 (ipykernel)",
   "language": "python",
   "name": "python3"
  },
  "language_info": {
   "codemirror_mode": {
    "name": "ipython",
    "version": 3
   },
   "file_extension": ".py",
   "mimetype": "text/x-python",
   "name": "python",
   "nbconvert_exporter": "python",
   "pygments_lexer": "ipython3",
   "version": "3.9.13"
  }
 },
 "nbformat": 4,
 "nbformat_minor": 5
}
